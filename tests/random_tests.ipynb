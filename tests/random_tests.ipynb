{
 "cells": [
  {
   "metadata": {},
   "cell_type": "code",
   "source": [
    "from tardis_em.utils.load_data import load_image\n",
    "\n",
    "path = '../../../../Downloads/GridA1_section1_crop_semantic.mrc'\n",
    "img, px = load_image(path)\n",
    "\n",
    "path = '../../../../Downloads/GridA1_section1_crop_semantic_auto.mrc'\n",
    "img_auto, px = load_image(path)"
   ],
   "id": "a4f54680b0c6f960",
   "outputs": [],
   "execution_count": null
  },
  {
   "metadata": {},
   "cell_type": "code",
   "source": [
    "from tardis_em.dist_pytorch.utils.build_point_cloud import BuildPointCloud\n",
    "\n",
    "post_processes = BuildPointCloud()\n",
    "\n",
    "pc_hd, pc_ld = post_processes.build_point_cloud(\n",
    "                    image=img, down_sampling=5\n",
    "                )\n",
    "\n",
    "pc_hd_auto, pc_ld_auto = post_processes.build_point_cloud(\n",
    "                    image=img_auto, down_sampling=5\n",
    "                )\n",
    "\n"
   ],
   "id": "53f483986ecd2eb6",
   "outputs": [],
   "execution_count": null
  },
  {
   "metadata": {},
   "cell_type": "code",
   "source": [
    "import numpy as np\n",
    "pc_ld = np.hstack((np.zeros(len(pc_ld))[:, np.newaxis], pc_ld))\n",
    "pc_ld_auto = np.hstack((np.zeros(len(pc_ld_auto))[:, np.newaxis], pc_ld_auto))\n"
   ],
   "id": "dba0f1b17ef6630c",
   "outputs": [],
   "execution_count": null
  },
  {
   "metadata": {},
   "cell_type": "code",
   "source": [
    "import pandas as pd\n",
    "\n",
    "segments = pd.DataFrame(pc_ld)\n",
    "segments.to_csv(\n",
    "    '../../../../Downloads/GridA1_section1_crop_semantic.csv',\n",
    "    header=[\"IDs\", \"X [A]\", \"Y [A]\", \"Z [A]\"],\n",
    "    index=False,\n",
    "    sep=\",\",\n",
    ")\n",
    "\n",
    "segments = pd.DataFrame(pc_ld_auto)\n",
    "segments.to_csv(\n",
    "    '../../../../Downloads/GridA1_section1_crop_semantic_auto.csv',\n",
    "    header=[\"IDs\", \"X [A]\", \"Y [A]\", \"Z [A]\"],\n",
    "    index=False,\n",
    "    sep=\",\",\n",
    ")"
   ],
   "id": "e4314696068649a4",
   "outputs": [],
   "execution_count": null
  },
  {
   "metadata": {},
   "cell_type": "code",
   "source": [
    "path = (\n",
    "    \"/Users/robertkiewisz/Desktop/test/231110_JanelTTLL11_212-800_100nM_010_no_salt.nd2\"\n",
    ")\n",
    "\n",
    "extensions_points = (\".csv\",)\n",
    "\n",
    "extensions_images = (\".rec\", \".mrc\", \".tiff\", \".tif\", \".nd2\", \".am\")\n",
    "path.endswith(extensions_images)"
   ],
   "id": "e6eb6809b4de2bbf",
   "outputs": [],
   "execution_count": null
  },
  {
   "metadata": {},
   "cell_type": "code",
   "source": [
    "import os\n",
    "import numpy as np\n",
    "\n",
    "path = \"../../../tesing_data/TS_Dogic_800.mrc_16.56Apx_SpatialGraph_filter.am\"\n",
    "with open(path, \"r\") as f:\n",
    "    df = next(f).split(\" \")\n",
    "\n",
    "if {\"AS\", \"ASI\"}.intersection(df):\n",
    "    print(True)"
   ],
   "id": "cc42d2e3c2cb78db",
   "outputs": [],
   "execution_count": null
  },
  {
   "metadata": {},
   "cell_type": "code",
   "source": "f.readline(-1)",
   "id": "9b8bf420ff44d3f0",
   "outputs": [],
   "execution_count": null
  },
  {
   "cell_type": "code",
   "id": "initial_id",
   "metadata": {
    "collapsed": true
   },
   "source": [
    "import torch\n",
    "\n",
    "\n",
    "def get_available_devices():\n",
    "    devices = [\"cpu\"]\n",
    "\n",
    "    # Check if CUDA (NVIDIA GPU) is available and list all available CUDA devices\n",
    "    if torch.cuda.is_available():\n",
    "        for i in range(torch.cuda.device_count()):\n",
    "            devices.append(f\"cuda:{i}\")\n",
    "\n",
    "    # Check for MPS (Apple's Metal Performance Shaders) availability\n",
    "    if torch.backends.mps.is_available():\n",
    "        devices.append(\"mps\")\n",
    "\n",
    "    return devices"
   ],
   "outputs": [],
   "execution_count": null
  },
  {
   "metadata": {},
   "cell_type": "code",
   "source": "get_available_devices()",
   "id": "7a84a850798f427c",
   "outputs": [],
   "execution_count": null
  },
  {
   "metadata": {},
   "cell_type": "code",
   "source": [
    "import numpy as np\n",
    "\n",
    "data = np.genfromtxt(\n",
    "    \"../../../test/Predictions/231110_JanelTTLL11_212-800_100nM_010_no_salt_3_instances_filter.csv\",\n",
    "    skip_header=1,\n",
    "    delimiter=\",\",\n",
    "    dtype=np.float16,\n",
    ")\n",
    "unique_ids = np.unique(data[:, 0])"
   ],
   "id": "e9d829b22b8305d6",
   "outputs": [],
   "execution_count": null
  },
  {
   "metadata": {},
   "cell_type": "code",
   "source": [
    "from os.path import splitext, basename\n",
    "\n",
    "path = \"../../../test/Predictions/231110_JanelTTLL11_212-800_100nM_010_no_salt_3_instances_filter.csv\"\n",
    "splitext(basename(path))[0]"
   ],
   "id": "db59364de50b18ed",
   "outputs": [],
   "execution_count": null
  },
  {
   "metadata": {},
   "cell_type": "markdown",
   "source": "",
   "id": "7483a59b8f063eb5"
  },
  {
   "metadata": {},
   "cell_type": "code",
   "source": [
    "data = data[:, 1:]\n",
    "data = np.vstack((data[:, 2], data[:, 1], data[:, 0])).T\n",
    "data"
   ],
   "id": "275a2afdca5b4fd",
   "outputs": [],
   "execution_count": null
  },
  {
   "metadata": {},
   "cell_type": "code",
   "source": [
    "from tardis_em.utils.load_data import load_nd2_file\n",
    "import os\n",
    "\n",
    "dirs_ = \"../../../../Downloads/MTs_TIRF/\"\n",
    "paths = [i for i in os.listdir(dirs_) if i.endswith(\".nd2\")]\n",
    "\n",
    "# nd2, _ = load_nd2_file(os.path.join(dirs_, paths[0]), )\n",
    "\n",
    "nd2_ = []\n",
    "for i in paths:\n",
    "    nd2, _ = load_nd2_file(\n",
    "        os.path.join(dirs_, i),\n",
    "    )\n",
    "    nd2_.append(nd2)"
   ],
   "id": "d659b9f0a5d82894",
   "outputs": [],
   "execution_count": null
  },
  {
   "metadata": {},
   "cell_type": "code",
   "source": "paths[7]",
   "id": "38daffbd9aa9ef2c",
   "outputs": [],
   "execution_count": null
  },
  {
   "metadata": {},
   "cell_type": "code",
   "source": [
    "for i in nd2_:\n",
    "    print(i.shape)"
   ],
   "id": "c52fe1676d1d30a8",
   "outputs": [],
   "execution_count": null
  },
  {
   "metadata": {},
   "cell_type": "code",
   "source": [
    "import matplotlib.pyplot as plt\n",
    "\n",
    "i = 7\n",
    "print(nd2_[i].shape)\n",
    "plt.imshow(nd2_[i][0, 0, 0, ...], cmap=\"gray\")"
   ],
   "id": "c5b87d49c6081bb4",
   "outputs": [],
   "execution_count": null
  },
  {
   "metadata": {},
   "cell_type": "code",
   "source": [
    "import numpy as np\n",
    "\n",
    "np.mean(nd2_[i][0, 0, 0, ...]) / np.std(nd2_[i][0, 0, 0, ...])"
   ],
   "id": "93fddae02278c4b2",
   "outputs": [],
   "execution_count": null
  },
  {
   "metadata": {},
   "cell_type": "code",
   "source": [
    "from tardis_em.utils.visualize_pc import show_image_list\n",
    "\n",
    "show_image_list([i for i in nd2])"
   ],
   "id": "d49d04d02515ce3e",
   "outputs": [],
   "execution_count": null
  },
  {
   "metadata": {},
   "cell_type": "code",
   "source": [
    "from tardis_em.utils.load_data import load_image\n",
    "import matplotlib.pyplot as plt\n",
    "\n",
    "\n",
    "img, px = load_image(\"../../../ht_example/10805/g3_MMM1_TS1_dose-filt.rec\")\n",
    "print(px)\n",
    "plt.figure(dpi=300)\n",
    "# plt.axis('off')\n",
    "plt.hist(img.flatten())"
   ],
   "id": "ada73c183c5761b6",
   "outputs": [],
   "execution_count": null
  },
  {
   "metadata": {},
   "cell_type": "code",
   "source": [
    "import scipy\n",
    "import numpy as np\n",
    "from tardis_em.utils.normalization import RescaleNormalize, MeanStdNormalize\n",
    "norm = RescaleNormalize((.1, 99.9))\n",
    "mstd = MeanStdNormalize()\n",
    "\n",
    "init_frame = mstd(norm(img[1, 0, 0, ...]))\n",
    "curr_frame = mstd(norm(img[1, 0, 1, ...]))\n",
    "\n",
    "# init_frame = init_frame - np.mean(init_frame)\n",
    "# curr_frame = curr_frame - np.mean(curr_frame)\n",
    "\n",
    "# calculate the correlation image; note the flipping of onw of the images\n",
    "shift = scipy.signal.fftconvolve(init_frame, curr_frame[::-1,::-1], mode='full')\n",
    "np.unravel_index(np.argmax(shift), shift.shape)"
   ],
   "id": "f1826ba1c5df5caa",
   "outputs": [],
   "execution_count": null
  },
  {
   "metadata": {},
   "cell_type": "code",
   "source": "(924//2, 1506//2)",
   "id": "d155a7a8a86c4b92",
   "outputs": [],
   "execution_count": null
  },
  {
   "metadata": {},
   "cell_type": "code",
   "source": [
    "import matplotlib.pyplot as plt\n",
    "plt.imshow(shift, cmap=\"gray\")"
   ],
   "id": "dacc14a733c3df3b",
   "outputs": [],
   "execution_count": null
  },
  {
   "metadata": {},
   "cell_type": "code",
   "source": [
    "from tardis_em.utils.load_data import load_image\n",
    "from tardis_em.utils.visualize_pc import show_image_list\n",
    "\n",
    "img, px = load_image(\n",
    "    \"../../../test_tirf/movie/2024-10-14_TTLL11_212-800_100nM_005.nd2\")\n"
   ],
   "id": "cfe19816eb80fd8",
   "outputs": [],
   "execution_count": null
  },
  {
   "metadata": {},
   "cell_type": "code",
   "source": [
    "from tardis_em.analysis.geometry_metrics import total_length, thicken_line_coordinates, pixel_intensity\n",
    "from scipy.interpolate import splprep, splev\n",
    "\n",
    "\n",
    "def co_localize_tirf(image: np.ndarray, filaments: np.ndarray, channel_in: int, thickness: int, name: str):\n",
    "    \"\"\"\n",
    "    - Get all channels, and dim_ as a channel to which we colocalizing\n",
    "    - get thicness from bt1 and bt2 as the bigger one\n",
    "    - for each MT\n",
    "        - extract MT track on all channels\n",
    "        - Compute co-localized signal between all channels\n",
    "        - append resoults\n",
    "    Args:\n",
    "        image (np.ndarray): image data of shape (C, T, H, W) or (C, H, W)\n",
    "    \"\"\"\n",
    "    channels = [i for i in range(image.shape[0]) if i != channel_in]\n",
    "    if image.ndim == 4:\n",
    "        C, T, H, W = image.shape\n",
    "    else:\n",
    "        C, H, W = image.shape\n",
    "        T = None\n",
    "\n",
    "    colocalized_data_mean = []\n",
    "    for i in np.unique(filaments[:, 0]):\n",
    "        tck, u = splprep(data.T, s=0)\n",
    "\n",
    "        data_fine = np.linspace(0, 1, 2 * int(total_length(data)))\n",
    "        data_fine = np.array(splev(data_fine, tck)).T\n",
    "\n",
    "        pixel_coords = np.rint(data_fine).astype(int)\n",
    "        pixel_coords = np.unique(pixel_coords, axis=0)\n",
    "        pixel_coords = thicken_line_coordinates(pixel_coords, thickness)\n",
    "\n",
    "        if T is None:\n",
    "            intensity_ch_in = pixel_intensity(pixel_coords, image[channel_in, ...])\n",
    "            intensity_ch_out = []\n",
    "            for i in channels:\n",
    "                intensity_ch_out.append(pixel_intensity(pixel_coords, image))\n"
   ],
   "id": "3b2cb23141c0f152",
   "outputs": [],
   "execution_count": null
  },
  {
   "metadata": {},
   "cell_type": "code",
   "source": [
    "from napari_tardis_em.viewers.utils import frames_phase_correlation\n",
    "\n",
    "for i in range(img.shape[1]):\n",
    "    img[1, i, ...] = frames_phase_correlation(img[1, i, ...])"
   ],
   "id": "363db96bde483556",
   "outputs": [],
   "execution_count": null
  },
  {
   "metadata": {},
   "cell_type": "code",
   "source": [
    "from napari_tardis_em.viewers.utils import frames_phase_correlation\n",
    "\n",
    "frames_cor = frames_phase_correlation(frames)"
   ],
   "id": "db3699ffc1dd60a5",
   "outputs": [],
   "execution_count": null
  },
  {
   "metadata": {},
   "cell_type": "code",
   "source": [
    "import tifffile.tifffile as tif\n",
    "import numpy as np\n",
    "# tif.imwrite('../../../test_tirf/movie/frames.tif', frames)\n",
    "tif.imwrite('../../../test_tirf/movie/frames_cor.tif', img)"
   ],
   "id": "1ae618aedfd6c6e4",
   "outputs": [],
   "execution_count": null
  },
  {
   "metadata": {},
   "cell_type": "code",
   "source": [
    "import matplotlib.pyplot as plt\n",
    "\n",
    "plt.hist(frames.flatten())"
   ],
   "id": "c099685e9ad1de24",
   "outputs": [],
   "execution_count": null
  },
  {
   "metadata": {},
   "cell_type": "code",
   "source": "plt.hist(frames_cor.flatten())",
   "id": "878586a46436b498",
   "outputs": [],
   "execution_count": null
  },
  {
   "metadata": {},
   "cell_type": "code",
   "source": [
    "strings='0.5'\n",
    "strings = strings.replace(',', '.') if ',' in strings else strings\n",
    "float(strings)\n"
   ],
   "id": "22bb5220651be58d",
   "outputs": [],
   "execution_count": null
  },
  {
   "metadata": {
    "ExecuteTime": {
     "end_time": "2025-04-04T19:17:53.269640Z",
     "start_time": "2025-04-04T19:17:51.069518Z"
    }
   },
   "cell_type": "code",
   "source": [
    "from tardis_em.analysis.spatial_graph_utils import FilterSpatialGraph\n",
    "import numpy as np\n",
    "\n",
    "segments = np.genfromtxt('../../../test_tirf/movie/Predictions/2024-10-14_TTLL11_212-800_100nM_005_0_instances.csv', delimiter=',')[1:, ...]\n",
    "\n",
    "filter_splines = FilterSpatialGraph(\n",
    "                        connect_seg_if_closer_then=25,\n",
    "                        cylinder_radius=12,\n",
    "                        filter_short_segments=10,\n",
    "                    )\n",
    "segments_filter = filter_splines(segments=segments, px=None)\n"
   ],
   "id": "7866403277e6b07c",
   "outputs": [],
   "execution_count": 1
  },
  {
   "metadata": {
    "ExecuteTime": {
     "end_time": "2025-04-04T19:17:53.731250Z",
     "start_time": "2025-04-04T19:17:53.283273Z"
    }
   },
   "cell_type": "code",
   "source": [
    "from tardis_em.utils.visualize_pc import VisualizePointCloud\n",
    "VisualizePointCloud(segments_filter, True)"
   ],
   "id": "a09b7510d5359432",
   "outputs": [
    {
     "ename": "NameError",
     "evalue": "name 'o3d' is not defined",
     "output_type": "error",
     "traceback": [
      "\u001B[31m---------------------------------------------------------------------------\u001B[39m",
      "\u001B[31mNameError\u001B[39m                                 Traceback (most recent call last)",
      "\u001B[36mCell\u001B[39m\u001B[36m \u001B[39m\u001B[32mIn[2]\u001B[39m\u001B[32m, line 2\u001B[39m\n\u001B[32m      1\u001B[39m \u001B[38;5;28;01mfrom\u001B[39;00m\u001B[38;5;250m \u001B[39m\u001B[34;01mtardis_em\u001B[39;00m\u001B[34;01m.\u001B[39;00m\u001B[34;01mutils\u001B[39;00m\u001B[34;01m.\u001B[39;00m\u001B[34;01mvisualize_pc\u001B[39;00m\u001B[38;5;250m \u001B[39m\u001B[38;5;28;01mimport\u001B[39;00m VisualizePointCloud\n\u001B[32m----> \u001B[39m\u001B[32m2\u001B[39m \u001B[43mVisualizePointCloud\u001B[49m\u001B[43m(\u001B[49m\u001B[43msegments_filter\u001B[49m\u001B[43m,\u001B[49m\u001B[43m \u001B[49m\u001B[38;5;28;43;01mTrue\u001B[39;49;00m\u001B[43m)\u001B[49m\n",
      "\u001B[36mFile \u001B[39m\u001B[32m~/Desktop/GitHub/TARDIS_dev/tardis_em/utils/visualize_pc.py:453\u001B[39m, in \u001B[36mVisualizePointCloud\u001B[39m\u001B[34m(coord, segmented, rgb, animate, return_b)\u001B[39m\n\u001B[32m    450\u001B[39m coord, check = _dataset_format(coord=coord, segmented=segmented)\n\u001B[32m    452\u001B[39m \u001B[38;5;28;01mif\u001B[39;00m check:\n\u001B[32m--> \u001B[39m\u001B[32m453\u001B[39m     pcd = \u001B[43mo3d\u001B[49m.geometry.PointCloud()\n\u001B[32m    455\u001B[39m     \u001B[38;5;28;01mif\u001B[39;00m segmented:\n\u001B[32m    456\u001B[39m         pcd.points = o3d.utility.Vector3dVector(coord[:, \u001B[32m1\u001B[39m:])\n",
      "\u001B[31mNameError\u001B[39m: name 'o3d' is not defined"
     ]
    }
   ],
   "execution_count": 2
  },
  {
   "metadata": {
    "ExecuteTime": {
     "end_time": "2025-04-04T19:18:04.977623Z",
     "start_time": "2025-04-04T19:18:04.905973Z"
    }
   },
   "cell_type": "code",
   "source": [
    "from tardis_em.utils.load_data import load_nd2_file\n",
    "import numpy as np\n",
    "\n",
    "img, px = load_nd2_file('/Users/robertkiewisz/Desktop/test_tirf/2024-10-21_ChL_TTLL11_212-800_100nM_022.nd2')\n",
    "img = img[:, 1, 0, ...]\n",
    "\n",
    "coord = np.genfromtxt('/Users/robertkiewisz/Desktop/test_tirf/Predictions/2024-10-21_ChL_TTLL11_212-800_100nM_022_0_instances_filter.csv', delimiter=',', skip_header=1)"
   ],
   "id": "8c743ec827d07db3",
   "outputs": [],
   "execution_count": 4
  },
  {
   "metadata": {
    "ExecuteTime": {
     "end_time": "2025-04-04T19:18:06.322197Z",
     "start_time": "2025-04-04T19:18:06.145987Z"
    }
   },
   "cell_type": "code",
   "source": [
    "from tardis_em.analysis.geometry_metrics import calculate_spline_correlations\n",
    "\n",
    "correlations, correlations_px = calculate_spline_correlations(img, coord, frame_id=1, thickness=[1, 1])"
   ],
   "id": "37fa853c1da27596",
   "outputs": [],
   "execution_count": 5
  },
  {
   "metadata": {
    "ExecuteTime": {
     "end_time": "2025-04-04T19:07:14.151764Z",
     "start_time": "2025-04-04T19:07:14.148734Z"
    }
   },
   "cell_type": "code",
   "source": "correlations_px[0]['MT']",
   "id": "e262843c084f0376",
   "outputs": [
    {
     "data": {
      "text/plain": [
       "{0: [0.45654916763305664,\n",
       "  0.4308215379714966,\n",
       "  0.42728400230407715,\n",
       "  0.43017834424972534,\n",
       "  0.4478660821914673,\n",
       "  0.4740760922431946,\n",
       "  0.40380755066871643,\n",
       "  0.3954460918903351,\n",
       "  0.45670995116233826,\n",
       "  0.4499564468860626,\n",
       "  0.4250328242778778,\n",
       "  0.46571460366249084,\n",
       "  0.44304215908050537,\n",
       "  0.4049331545829773,\n",
       "  0.4171537458896637,\n",
       "  0.4021995961666107,\n",
       "  0.4231032729148865,\n",
       "  0.46716180443763733,\n",
       "  0.46748340129852295,\n",
       "  0.4509212374687195,\n",
       "  0.4248720407485962,\n",
       "  0.4973917603492737,\n",
       "  0.37968793511390686,\n",
       "  0.5105771422386169,\n",
       "  0.4387006163597107,\n",
       "  0.4478660821914673,\n",
       "  0.384994238615036,\n",
       "  0.48597511649131775,\n",
       "  0.4123298227787018,\n",
       "  0.4803471863269806,\n",
       "  0.4790608286857605,\n",
       "  0.5211897492408752,\n",
       "  0.47954320907592773,\n",
       "  0.43226873874664307,\n",
       "  0.44561493396759033,\n",
       "  0.5129891037940979,\n",
       "  0.48613590002059937,\n",
       "  0.46780499815940857,\n",
       "  0.41811853647232056,\n",
       "  0.508004367351532,\n",
       "  0.46089068055152893,\n",
       "  0.5218329429626465,\n",
       "  0.4081490933895111,\n",
       "  0.5044668316841125,\n",
       "  0.4300175607204437,\n",
       "  0.48163357377052307,\n",
       "  0.44883087277412415,\n",
       "  0.47809603810310364,\n",
       "  0.41184744238853455,\n",
       "  0.4388614296913147,\n",
       "  0.4895126521587372,\n",
       "  0.48147279024124146,\n",
       "  0.48935186862945557,\n",
       "  0.437092661857605,\n",
       "  0.44899168610572815,\n",
       "  0.4030035734176636,\n",
       "  0.45992591977119446,\n",
       "  0.393838107585907,\n",
       "  0.46893057227134705,\n",
       "  0.42857038974761963,\n",
       "  0.4573531448841095,\n",
       "  0.4879046678543091,\n",
       "  0.4616946876049042,\n",
       "  0.4901558458805084,\n",
       "  0.4970701336860657,\n",
       "  0.47664883732795715,\n",
       "  0.4600867033004761,\n",
       "  0.45494118332862854,\n",
       "  0.4774528443813324,\n",
       "  0.45815712213516235,\n",
       "  0.4620162844657898,\n",
       "  0.49690932035446167,\n",
       "  0.4483484923839569,\n",
       "  0.42133450508117676,\n",
       "  0.46603620052337646,\n",
       "  0.5327671766281128,\n",
       "  0.5104163289070129,\n",
       "  0.4544588029384613,\n",
       "  0.47680965065956116,\n",
       "  0.46732258796691895,\n",
       "  0.5028588771820068,\n",
       "  0.5176522135734558,\n",
       "  0.46410664916038513,\n",
       "  0.4975525140762329,\n",
       "  0.44722288846969604,\n",
       "  0.3943205177783966,\n",
       "  0.4481876790523529,\n",
       "  0.4592827260494232,\n",
       "  0.535983145236969,\n",
       "  0.5736097693443298,\n",
       "  0.47986480593681335,\n",
       "  0.46555382013320923,\n",
       "  0.4359670579433441,\n",
       "  0.5604243874549866,\n",
       "  0.49835652112960815,\n",
       "  0.4607298970222473,\n",
       "  0.5158834457397461,\n",
       "  0.46909135580062866,\n",
       "  0.45960432291030884,\n",
       "  0.4716641306877136,\n",
       "  0.5620323419570923,\n",
       "  0.4739152789115906,\n",
       "  0.492728590965271,\n",
       "  0.4854927062988281,\n",
       "  0.4483484923839569,\n",
       "  0.4387006163597107,\n",
       "  0.5046276450157166,\n",
       "  0.5171698331832886,\n",
       "  0.46619701385498047,\n",
       "  0.4541372060775757],\n",
       " 1: [0.45654916763305664,\n",
       "  0.4308215379714966,\n",
       "  0.42728400230407715,\n",
       "  0.43017834424972534,\n",
       "  0.4478660821914673,\n",
       "  0.4740760922431946,\n",
       "  0.40380755066871643,\n",
       "  0.3954460918903351,\n",
       "  0.45670995116233826,\n",
       "  0.4499564468860626,\n",
       "  0.4250328242778778,\n",
       "  0.46571460366249084,\n",
       "  0.44304215908050537,\n",
       "  0.4049331545829773,\n",
       "  0.4171537458896637,\n",
       "  0.4021995961666107,\n",
       "  0.4231032729148865,\n",
       "  0.46716180443763733,\n",
       "  0.46748340129852295,\n",
       "  0.4509212374687195,\n",
       "  0.4248720407485962,\n",
       "  0.4973917603492737,\n",
       "  0.37968793511390686,\n",
       "  0.5105771422386169,\n",
       "  0.4387006163597107,\n",
       "  0.4478660821914673,\n",
       "  0.384994238615036,\n",
       "  0.48597511649131775,\n",
       "  0.4123298227787018,\n",
       "  0.4803471863269806,\n",
       "  0.4790608286857605,\n",
       "  0.5211897492408752,\n",
       "  0.47954320907592773,\n",
       "  0.43226873874664307,\n",
       "  0.44561493396759033,\n",
       "  0.5129891037940979,\n",
       "  0.48613590002059937,\n",
       "  0.46780499815940857,\n",
       "  0.41811853647232056,\n",
       "  0.508004367351532,\n",
       "  0.46089068055152893,\n",
       "  0.5218329429626465,\n",
       "  0.4081490933895111,\n",
       "  0.5044668316841125,\n",
       "  0.4300175607204437,\n",
       "  0.48163357377052307,\n",
       "  0.44883087277412415,\n",
       "  0.47809603810310364,\n",
       "  0.41184744238853455,\n",
       "  0.4388614296913147,\n",
       "  0.4895126521587372,\n",
       "  0.48147279024124146,\n",
       "  0.48935186862945557,\n",
       "  0.437092661857605,\n",
       "  0.44899168610572815,\n",
       "  0.4030035734176636,\n",
       "  0.45992591977119446,\n",
       "  0.393838107585907,\n",
       "  0.46893057227134705,\n",
       "  0.42857038974761963,\n",
       "  0.4573531448841095,\n",
       "  0.4879046678543091,\n",
       "  0.4616946876049042,\n",
       "  0.4901558458805084,\n",
       "  0.4970701336860657,\n",
       "  0.47664883732795715,\n",
       "  0.4600867033004761,\n",
       "  0.45494118332862854,\n",
       "  0.4774528443813324,\n",
       "  0.45815712213516235,\n",
       "  0.4620162844657898,\n",
       "  0.49690932035446167,\n",
       "  0.4483484923839569,\n",
       "  0.42133450508117676,\n",
       "  0.46603620052337646,\n",
       "  0.5327671766281128,\n",
       "  0.5104163289070129,\n",
       "  0.4544588029384613,\n",
       "  0.47680965065956116,\n",
       "  0.46732258796691895,\n",
       "  0.5028588771820068,\n",
       "  0.5176522135734558,\n",
       "  0.46410664916038513,\n",
       "  0.4975525140762329,\n",
       "  0.44722288846969604,\n",
       "  0.3943205177783966,\n",
       "  0.4481876790523529,\n",
       "  0.4592827260494232,\n",
       "  0.535983145236969,\n",
       "  0.5736097693443298,\n",
       "  0.47986480593681335,\n",
       "  0.46555382013320923,\n",
       "  0.4359670579433441,\n",
       "  0.5604243874549866,\n",
       "  0.49835652112960815,\n",
       "  0.4607298970222473,\n",
       "  0.5158834457397461,\n",
       "  0.46909135580062866,\n",
       "  0.45960432291030884,\n",
       "  0.4716641306877136,\n",
       "  0.5620323419570923,\n",
       "  0.4739152789115906,\n",
       "  0.492728590965271,\n",
       "  0.4854927062988281,\n",
       "  0.4483484923839569,\n",
       "  0.4387006163597107,\n",
       "  0.5046276450157166,\n",
       "  0.5171698331832886,\n",
       "  0.46619701385498047,\n",
       "  0.4541372060775757]}"
      ]
     },
     "execution_count": 7,
     "metadata": {},
     "output_type": "execute_result"
    }
   ],
   "execution_count": 7
  },
  {
   "metadata": {
    "ExecuteTime": {
     "end_time": "2025-04-04T18:58:51.493424Z",
     "start_time": "2025-04-04T18:58:51.450037Z"
    }
   },
   "cell_type": "code",
   "source": [
    "from tardis_em.analysis.analysis import analyse_filaments\n",
    "\n",
    "anal = analyse_filaments(coord, img, [1, 1], )\n",
    "anal[0]"
   ],
   "id": "530c38e00ff7fe35",
   "outputs": [
    {
     "data": {
      "text/plain": [
       "[[106.34993111995266,\n",
       "  112.14110332127784,\n",
       "  118.15502886450389,\n",
       "  138.33805463773695,\n",
       "  146.09526767073763,\n",
       "  150.64814574878147,\n",
       "  151.55697223581257,\n",
       "  154.54405596990892,\n",
       "  169.87948688989962,\n",
       "  175.03148894045069,\n",
       "  179.5378426293858,\n",
       "  181.57163709116887,\n",
       "  210.24011813177836,\n",
       "  213.26717965766898,\n",
       "  226.94608610403708,\n",
       "  248.63468350473497,\n",
       "  268.4770484572618,\n",
       "  273.2093895707732,\n",
       "  293.4055440512225,\n",
       "  296.2113523432957,\n",
       "  328.53569420587945,\n",
       "  353.63979952962984,\n",
       "  365.2846557981258,\n",
       "  426.8074871584455,\n",
       "  493.1322938796223,\n",
       "  1149.301180235087]]"
      ]
     },
     "execution_count": 4,
     "metadata": {},
     "output_type": "execute_result"
    }
   ],
   "execution_count": 4
  },
  {
   "metadata": {
    "ExecuteTime": {
     "end_time": "2025-04-04T19:18:08.583785Z",
     "start_time": "2025-04-04T19:18:08.538900Z"
    }
   },
   "cell_type": "code",
   "source": [
    "import pandas as pd\n",
    "\n",
    "# Assuming your dictionary is called 'data'\n",
    "def convert_dict_to_csv(data, filename='output.csv'):\n",
    "    # Prepare a dictionary to store our columns\n",
    "    csv_data = {}\n",
    "\n",
    "    # Iterate through the main dictionary\n",
    "    for main_key in data:\n",
    "        # Add reference column\n",
    "        csv_data[f\"{main_key}_reference\"] = data[main_key][\"reference\"]\n",
    "\n",
    "        # Add MT columns\n",
    "        for mt_key in data[main_key][\"MT\"]:\n",
    "            csv_data[f\"{main_key}_MT_{mt_key}\"] = data[main_key][\"MT\"][mt_key]\n",
    "\n",
    "    # Find the maximum length of all lists to ensure proper DataFrame creation\n",
    "    max_length = max(len(lst) for col in csv_data.values() for lst in [col])\n",
    "\n",
    "    # Pad shorter lists with None to make them equal length\n",
    "    for col in csv_data:\n",
    "        current_length = len(csv_data[col])\n",
    "        if current_length < max_length:\n",
    "            csv_data[col].extend([None] * (max_length - current_length))\n",
    "\n",
    "    # Create DataFrame and save to CSV\n",
    "    df = pd.DataFrame(csv_data)\n",
    "    df.to_csv(filename, index=False)\n",
    "\n",
    "\n",
    "convert_dict_to_csv(correlations_px, '/Users/robertkiewisz/Desktop/test_tirf/correlations.csv')"
   ],
   "id": "93017623524a49b8",
   "outputs": [],
   "execution_count": 6
  },
  {
   "metadata": {
    "ExecuteTime": {
     "end_time": "2025-04-04T20:50:21.429172Z",
     "start_time": "2025-04-04T20:50:21.425110Z"
    }
   },
   "cell_type": "code",
   "source": [
    "import numpy as np\n",
    "\n",
    "analysis_file = np.zeros((28, 12))\n",
    "anal_list = [ \"length\", \"avg_intensity\",  \"avg_length_intensity\", \"correlation\"]\n",
    "df = {\n",
    "    \"length\": 3,\n",
    "    \"curvature\": 4,\n",
    "    \"tortuosity\": 5,\n",
    "    \"avg_intensity\": 6,\n",
    "    \"avg_length_intensity\": 7,\n",
    "    \"sum_intensity\": 8,\n",
    "    \"sum_length_intensity\": 9\n",
    "}\n",
    "\n",
    "keep_ = [0, 1, 2] + [df[i] for i in anal_list if i in df]\n",
    "if \"correlation\" in anal_list:\n",
    "    keep_ = keep_ + [10]\n",
    "\n",
    "remove_ = [item for item in list(range(analysis_file.shape[1])) if item not in keep_]\n",
    "\n",
    "if 10 in keep_:\n",
    "    keep = keep_.extend([i for i in remove_ if i > 10])\n",
    "    remove_ = [i for i in remove_ if i < 10]\n",
    "\n",
    "analysis_file = np.delete(analysis_file, remove_, axis=1)\n",
    "\n",
    "header = [\n",
    "                \"File_Name\",\n",
    "                \"No. of Filament\",\n",
    "                \"Pixel_Size [nm]\",\n",
    "                \"Length [nm]\",\n",
    "                \"Curvature [0-inf]\",\n",
    "                \"Tortuosity [1-inf]\",\n",
    "                \"Avg. Intensity [U]\",\n",
    "                \"Avg. Intensity / Length [U/nm]\",\n",
    "                \"Sum. Intensity [U]\",\n",
    "                \"Sum. Intensity / Length [U/nm]\",\n",
    "            ]\n",
    "header = header + [f\"Correlation [Pearson] CH_{i}\" for i in range(2)]\n",
    "header = [h for id, h in enumerate(header) if id in keep_]"
   ],
   "id": "132105eba610fd6a",
   "outputs": [],
   "execution_count": 14
  }
 ],
 "metadata": {
  "kernelspec": {
   "display_name": "Python 3",
   "language": "python",
   "name": "python3"
  },
  "language_info": {
   "codemirror_mode": {
    "name": "ipython",
    "version": 2
   },
   "file_extension": ".py",
   "mimetype": "text/x-python",
   "name": "python",
   "nbconvert_exporter": "python",
   "pygments_lexer": "ipython2",
   "version": "2.7.6"
  }
 },
 "nbformat": 4,
 "nbformat_minor": 5
}
