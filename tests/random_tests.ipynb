{
 "cells": [
  {
   "metadata": {},
   "cell_type": "code",
   "source": [
    "from tardis_em.utils.load_data import load_image\n",
    "\n",
    "path = '../../../../Downloads/GridA1_section1_crop_semantic.mrc'\n",
    "img, px = load_image(path)\n",
    "\n",
    "path = '../../../../Downloads/GridA1_section1_crop_semantic_auto.mrc'\n",
    "img_auto, px = load_image(path)"
   ],
   "id": "a4f54680b0c6f960",
   "outputs": [],
   "execution_count": null
  },
  {
   "metadata": {},
   "cell_type": "code",
   "source": [
    "from tardis_em.dist_pytorch.utils.build_point_cloud import BuildPointCloud\n",
    "\n",
    "post_processes = BuildPointCloud()\n",
    "\n",
    "pc_hd, pc_ld = post_processes.build_point_cloud(\n",
    "                    image=img, down_sampling=5\n",
    "                )\n",
    "\n",
    "pc_hd_auto, pc_ld_auto = post_processes.build_point_cloud(\n",
    "                    image=img_auto, down_sampling=5\n",
    "                )\n",
    "\n"
   ],
   "id": "53f483986ecd2eb6",
   "outputs": [],
   "execution_count": null
  },
  {
   "metadata": {},
   "cell_type": "code",
   "source": [
    "import numpy as np\n",
    "pc_ld = np.hstack((np.zeros(len(pc_ld))[:, np.newaxis], pc_ld))\n",
    "pc_ld_auto = np.hstack((np.zeros(len(pc_ld_auto))[:, np.newaxis], pc_ld_auto))\n"
   ],
   "id": "dba0f1b17ef6630c",
   "outputs": [],
   "execution_count": null
  },
  {
   "metadata": {},
   "cell_type": "code",
   "source": [
    "import pandas as pd\n",
    "\n",
    "segments = pd.DataFrame(pc_ld)\n",
    "segments.to_csv(\n",
    "    '../../../../Downloads/GridA1_section1_crop_semantic.csv',\n",
    "    header=[\"IDs\", \"X [A]\", \"Y [A]\", \"Z [A]\"],\n",
    "    index=False,\n",
    "    sep=\",\",\n",
    ")\n",
    "\n",
    "segments = pd.DataFrame(pc_ld_auto)\n",
    "segments.to_csv(\n",
    "    '../../../../Downloads/GridA1_section1_crop_semantic_auto.csv',\n",
    "    header=[\"IDs\", \"X [A]\", \"Y [A]\", \"Z [A]\"],\n",
    "    index=False,\n",
    "    sep=\",\",\n",
    ")"
   ],
   "id": "e4314696068649a4",
   "outputs": [],
   "execution_count": null
  },
  {
   "metadata": {},
   "cell_type": "code",
   "source": [
    "path = (\n",
    "    \"/Users/robertkiewisz/Desktop/test/231110_JanelTTLL11_212-800_100nM_010_no_salt.nd2\"\n",
    ")\n",
    "\n",
    "extensions_points = (\".csv\",)\n",
    "\n",
    "extensions_images = (\".rec\", \".mrc\", \".tiff\", \".tif\", \".nd2\", \".am\")\n",
    "path.endswith(extensions_images)"
   ],
   "id": "e6eb6809b4de2bbf",
   "outputs": [],
   "execution_count": null
  },
  {
   "metadata": {},
   "cell_type": "code",
   "source": [
    "import os\n",
    "import numpy as np\n",
    "\n",
    "path = \"../../../tesing_data/TS_Dogic_800.mrc_16.56Apx_SpatialGraph_filter.am\"\n",
    "with open(path, \"r\") as f:\n",
    "    df = next(f).split(\" \")\n",
    "\n",
    "if {\"AS\", \"ASI\"}.intersection(df):\n",
    "    print(True)"
   ],
   "id": "cc42d2e3c2cb78db",
   "outputs": [],
   "execution_count": null
  },
  {
   "metadata": {},
   "cell_type": "code",
   "source": "f.readline(-1)",
   "id": "9b8bf420ff44d3f0",
   "outputs": [],
   "execution_count": null
  },
  {
   "cell_type": "code",
   "id": "initial_id",
   "metadata": {
    "collapsed": true
   },
   "source": [
    "import torch\n",
    "\n",
    "\n",
    "def get_available_devices():\n",
    "    devices = [\"cpu\"]\n",
    "\n",
    "    # Check if CUDA (NVIDIA GPU) is available and list all available CUDA devices\n",
    "    if torch.cuda.is_available():\n",
    "        for i in range(torch.cuda.device_count()):\n",
    "            devices.append(f\"cuda:{i}\")\n",
    "\n",
    "    # Check for MPS (Apple's Metal Performance Shaders) availability\n",
    "    if torch.backends.mps.is_available():\n",
    "        devices.append(\"mps\")\n",
    "\n",
    "    return devices"
   ],
   "outputs": [],
   "execution_count": null
  },
  {
   "metadata": {},
   "cell_type": "code",
   "source": "get_available_devices()",
   "id": "7a84a850798f427c",
   "outputs": [],
   "execution_count": null
  },
  {
   "metadata": {},
   "cell_type": "code",
   "source": [
    "import numpy as np\n",
    "\n",
    "data = np.genfromtxt(\n",
    "    \"../../../test/Predictions/231110_JanelTTLL11_212-800_100nM_010_no_salt_3_instances_filter.csv\",\n",
    "    skip_header=1,\n",
    "    delimiter=\",\",\n",
    "    dtype=np.float16,\n",
    ")\n",
    "unique_ids = np.unique(data[:, 0])"
   ],
   "id": "e9d829b22b8305d6",
   "outputs": [],
   "execution_count": null
  },
  {
   "metadata": {},
   "cell_type": "code",
   "source": [
    "from os.path import splitext, basename\n",
    "\n",
    "path = \"../../../test/Predictions/231110_JanelTTLL11_212-800_100nM_010_no_salt_3_instances_filter.csv\"\n",
    "splitext(basename(path))[0]"
   ],
   "id": "db59364de50b18ed",
   "outputs": [],
   "execution_count": null
  },
  {
   "metadata": {},
   "cell_type": "markdown",
   "source": "",
   "id": "7483a59b8f063eb5"
  },
  {
   "metadata": {},
   "cell_type": "code",
   "source": [
    "data = data[:, 1:]\n",
    "data = np.vstack((data[:, 2], data[:, 1], data[:, 0])).T\n",
    "data"
   ],
   "id": "275a2afdca5b4fd",
   "outputs": [],
   "execution_count": null
  },
  {
   "metadata": {},
   "cell_type": "code",
   "source": [
    "from tardis_em.utils.load_data import load_nd2_file\n",
    "import os\n",
    "\n",
    "dirs_ = \"../../../../Downloads/MTs_TIRF/\"\n",
    "paths = [i for i in os.listdir(dirs_) if i.endswith(\".nd2\")]\n",
    "\n",
    "# nd2, _ = load_nd2_file(os.path.join(dirs_, paths[0]), )\n",
    "\n",
    "nd2_ = []\n",
    "for i in paths:\n",
    "    nd2, _ = load_nd2_file(\n",
    "        os.path.join(dirs_, i),\n",
    "    )\n",
    "    nd2_.append(nd2)"
   ],
   "id": "d659b9f0a5d82894",
   "outputs": [],
   "execution_count": null
  },
  {
   "metadata": {},
   "cell_type": "code",
   "source": "paths[7]",
   "id": "38daffbd9aa9ef2c",
   "outputs": [],
   "execution_count": null
  },
  {
   "metadata": {},
   "cell_type": "code",
   "source": [
    "for i in nd2_:\n",
    "    print(i.shape)"
   ],
   "id": "c52fe1676d1d30a8",
   "outputs": [],
   "execution_count": null
  },
  {
   "metadata": {},
   "cell_type": "code",
   "source": [
    "import matplotlib.pyplot as plt\n",
    "\n",
    "i = 7\n",
    "print(nd2_[i].shape)\n",
    "plt.imshow(nd2_[i][0, 0, 0, ...], cmap=\"gray\")"
   ],
   "id": "c5b87d49c6081bb4",
   "outputs": [],
   "execution_count": null
  },
  {
   "metadata": {},
   "cell_type": "code",
   "source": [
    "import numpy as np\n",
    "\n",
    "np.mean(nd2_[i][0, 0, 0, ...]) / np.std(nd2_[i][0, 0, 0, ...])"
   ],
   "id": "93fddae02278c4b2",
   "outputs": [],
   "execution_count": null
  },
  {
   "metadata": {},
   "cell_type": "code",
   "source": [
    "from tardis_em.utils.visualize_pc import show_image_list\n",
    "\n",
    "show_image_list([i for i in nd2])"
   ],
   "id": "d49d04d02515ce3e",
   "outputs": [],
   "execution_count": null
  },
  {
   "metadata": {},
   "cell_type": "code",
   "source": [
    "from tardis_em.utils.load_data import load_image\n",
    "import matplotlib.pyplot as plt\n",
    "\n",
    "\n",
    "img, px = load_image(\"../../../ht_example/10805/g3_MMM1_TS1_dose-filt.rec\")\n",
    "print(px)\n",
    "plt.figure(dpi=300)\n",
    "# plt.axis('off')\n",
    "plt.hist(img.flatten())"
   ],
   "id": "ada73c183c5761b6",
   "outputs": [],
   "execution_count": null
  },
  {
   "metadata": {
    "ExecuteTime": {
     "end_time": "2025-03-26T13:49:51.194799Z",
     "start_time": "2025-03-26T13:49:51.078013Z"
    }
   },
   "cell_type": "code",
   "source": [
    "import scipy\n",
    "import numpy as np\n",
    "from tardis_em.utils.normalization import RescaleNormalize, MeanStdNormalize\n",
    "norm = RescaleNormalize((.1, 99.9))\n",
    "mstd = MeanStdNormalize()\n",
    "\n",
    "init_frame = mstd(norm(img[1, 0, 0, ...]))\n",
    "curr_frame = mstd(norm(img[1, 0, 1, ...]))\n",
    "\n",
    "# init_frame = init_frame - np.mean(init_frame)\n",
    "# curr_frame = curr_frame - np.mean(curr_frame)\n",
    "\n",
    "# calculate the correlation image; note the flipping of onw of the images\n",
    "shift = scipy.signal.fftconvolve(init_frame, curr_frame[::-1,::-1], mode='full')\n",
    "np.unravel_index(np.argmax(shift), shift.shape)"
   ],
   "id": "f1826ba1c5df5caa",
   "outputs": [
    {
     "data": {
      "text/plain": [
       "(np.int64(931), np.int64(1508))"
      ]
     },
     "execution_count": 38,
     "metadata": {},
     "output_type": "execute_result"
    }
   ],
   "execution_count": 38
  },
  {
   "metadata": {
    "ExecuteTime": {
     "end_time": "2025-03-26T13:48:43.929053Z",
     "start_time": "2025-03-26T13:48:43.926684Z"
    }
   },
   "cell_type": "code",
   "source": "(924//2, 1506//2)",
   "id": "d155a7a8a86c4b92",
   "outputs": [
    {
     "data": {
      "text/plain": [
       "(462, 753)"
      ]
     },
     "execution_count": 34,
     "metadata": {},
     "output_type": "execute_result"
    }
   ],
   "execution_count": 34
  },
  {
   "metadata": {
    "ExecuteTime": {
     "end_time": "2025-03-26T13:49:53.745433Z",
     "start_time": "2025-03-26T13:49:52.997947Z"
    }
   },
   "cell_type": "code",
   "source": [
    "import matplotlib.pyplot as plt\n",
    "plt.imshow(shift, cmap=\"gray\")"
   ],
   "id": "dacc14a733c3df3b",
   "outputs": [
    {
     "data": {
      "text/plain": [
       "<matplotlib.image.AxesImage at 0x17eac5290>"
      ]
     },
     "execution_count": 39,
     "metadata": {},
     "output_type": "execute_result"
    },
    {
     "data": {
      "text/plain": [
       "<Figure size 640x480 with 1 Axes>"
      ],
      "image/png": "[encoded data removed]"
     },
     "metadata": {},
     "output_type": "display_data"
    }
   ],
   "execution_count": 39
  },
  {
   "metadata": {
    "ExecuteTime": {
     "end_time": "2025-03-26T20:07:51.285869Z",
     "start_time": "2025-03-26T20:07:48.386194Z"
    }
   },
   "cell_type": "code",
   "source": [
    "from tardis_em.utils.load_data import load_image\n",
    "from tardis_em.utils.visualize_pc import show_image_list\n",
    "\n",
    "img, px = load_image(\n",
    "    \"../../../test_tirf/movie/2024-10-14_TTLL11_212-800_100nM_005.nd2\")\n"
   ],
   "id": "cfe19816eb80fd8",
   "outputs": [],
   "execution_count": 3
  },
  {
   "metadata": {
    "ExecuteTime": {
     "end_time": "2025-03-26T20:44:24.009085Z",
     "start_time": "2025-03-26T20:44:23.954634Z"
    }
   },
   "cell_type": "code",
   "source": [
    "from tardis_em.analysis.geometry_metrics import total_length, thicken_line_coordinates, pixel_intensity\n",
    "from scipy.interpolate import splprep, splev\n",
    "\n",
    "\n",
    "def co_localize_tirf(image: np.ndarray, filaments: np.ndarray, channel_in: int, thickness: int, name: str):\n",
    "    \"\"\"\n",
    "    - Get all channels, and dim_ as a channel to which we colocalizing\n",
    "    - get thicness from bt1 and bt2 as the bigger one\n",
    "    - for each MT\n",
    "        - extract MT track on all channels\n",
    "        - Compute co-localized signal between all channels\n",
    "        - append resoults\n",
    "    Args:\n",
    "        image (np.ndarray): image data of shape (C, T, H, W) or (C, H, W)\n",
    "    \"\"\"\n",
    "    channels = [i for i in range(image.shape[0]) if i != channel_in]\n",
    "    if image.ndim == 4:\n",
    "        C, T, H, W = image.shape\n",
    "    else:\n",
    "        C, H, W = image.shape\n",
    "        T = None\n",
    "\n",
    "    colocalized_data_mean = []\n",
    "    for i in np.unique(filaments[:, 0]):\n",
    "        tck, u = splprep(data.T, s=0)\n",
    "\n",
    "        data_fine = np.linspace(0, 1, 2 * int(total_length(data)))\n",
    "        data_fine = np.array(splev(data_fine, tck)).T\n",
    "\n",
    "        pixel_coords = np.rint(data_fine).astype(int)\n",
    "        pixel_coords = np.unique(pixel_coords, axis=0)\n",
    "        pixel_coords = thicken_line_coordinates(pixel_coords, thickness)\n",
    "\n",
    "        if T is None:\n",
    "            intensity_ch_in = pixel_intensity(pixel_coords, image[channel_in, ...])\n",
    "            intensity_ch_out = []\n",
    "            for i in channels:\n",
    "                intensity_ch_out.append(pixel_intensity(pixel_coords, image))\n"
   ],
   "id": "3b2cb23141c0f152",
   "outputs": [
    {
     "ename": "SyntaxError",
     "evalue": "incomplete input (896692307.py, line 25)",
     "output_type": "error",
     "traceback": [
      "  \u001B[36mCell\u001B[39m\u001B[36m \u001B[39m\u001B[32mIn[4]\u001B[39m\u001B[32m, line 25\u001B[39m\n\u001B[31m    \u001B[39m\n    ^\n\u001B[31mSyntaxError\u001B[39m\u001B[31m:\u001B[39m incomplete input\n"
     ]
    }
   ],
   "execution_count": 4
  },
  {
   "metadata": {
    "ExecuteTime": {
     "end_time": "2025-03-26T20:44:24.027004Z",
     "start_time": "2025-03-26T13:53:03.246900Z"
    }
   },
   "cell_type": "code",
   "source": [
    "from napari_tardis_em.viewers.utils import frames_phase_correlation\n",
    "\n",
    "for i in range(img.shape[1]):\n",
    "    img[1, i, ...] = frames_phase_correlation(img[1, i, ...])"
   ],
   "id": "363db96bde483556",
   "outputs": [
    {
     "name": "stdout",
     "output_type": "stream",
     "text": [
      "(np.int64(1), np.int64(-1))\n",
      "(np.int64(2), np.int64(0))\n",
      "(np.int64(2), np.int64(0))\n",
      "(np.int64(3), np.int64(1))\n",
      "(np.int64(4), np.int64(1))\n",
      "(np.int64(5), np.int64(1))\n",
      "(np.int64(6), np.int64(2))\n",
      "(np.int64(6), np.int64(2))\n",
      "(np.int64(7), np.int64(2))\n",
      "(np.int64(7), np.int64(2))\n",
      "(np.int64(7), np.int64(3))\n",
      "(np.int64(8), np.int64(2))\n",
      "(np.int64(8), np.int64(3))\n",
      "(np.int64(8), np.int64(3))\n",
      "(np.int64(8), np.int64(3))\n",
      "(np.int64(8), np.int64(3))\n",
      "(np.int64(8), np.int64(3))\n",
      "(np.int64(8), np.int64(3))\n",
      "(np.int64(8), np.int64(3))\n",
      "(np.int64(7), np.int64(3))\n",
      "(np.int64(7), np.int64(3))\n",
      "(np.int64(7), np.int64(3))\n",
      "(np.int64(7), np.int64(3))\n",
      "(np.int64(6), np.int64(3))\n",
      "(np.int64(6), np.int64(3))\n",
      "(np.int64(6), np.int64(3))\n",
      "(np.int64(5), np.int64(2))\n",
      "(np.int64(5), np.int64(2))\n",
      "(np.int64(4), np.int64(2))\n",
      "(np.int64(4), np.int64(2))\n",
      "(np.int64(1), np.int64(-1))\n",
      "(np.int64(2), np.int64(0))\n",
      "(np.int64(2), np.int64(0))\n",
      "(np.int64(3), np.int64(1))\n",
      "(np.int64(3), np.int64(1))\n",
      "(np.int64(4), np.int64(1))\n",
      "(np.int64(5), np.int64(2))\n",
      "(np.int64(5), np.int64(2))\n",
      "(np.int64(6), np.int64(2))\n",
      "(np.int64(6), np.int64(2))\n",
      "(np.int64(6), np.int64(3))\n",
      "(np.int64(6), np.int64(2))\n",
      "(np.int64(7), np.int64(3))\n",
      "(np.int64(7), np.int64(3))\n",
      "(np.int64(6), np.int64(3))\n",
      "(np.int64(7), np.int64(3))\n",
      "(np.int64(6), np.int64(3))\n",
      "(np.int64(7), np.int64(3))\n",
      "(np.int64(6), np.int64(3))\n",
      "(np.int64(6), np.int64(3))\n",
      "(np.int64(6), np.int64(3))\n",
      "(np.int64(6), np.int64(3))\n",
      "(np.int64(6), np.int64(3))\n",
      "(np.int64(6), np.int64(3))\n",
      "(np.int64(5), np.int64(3))\n",
      "(np.int64(5), np.int64(3))\n",
      "(np.int64(5), np.int64(2))\n",
      "(np.int64(4), np.int64(2))\n",
      "(np.int64(4), np.int64(2))\n",
      "(np.int64(4), np.int64(2))\n",
      "(np.int64(0), np.int64(-1))\n",
      "(np.int64(1), np.int64(0))\n",
      "(np.int64(2), np.int64(0))\n",
      "(np.int64(3), np.int64(1))\n",
      "(np.int64(3), np.int64(1))\n",
      "(np.int64(4), np.int64(1))\n",
      "(np.int64(4), np.int64(2))\n",
      "(np.int64(5), np.int64(2))\n",
      "(np.int64(5), np.int64(2))\n",
      "(np.int64(5), np.int64(2))\n",
      "(np.int64(6), np.int64(2))\n",
      "(np.int64(6), np.int64(2))\n",
      "(np.int64(6), np.int64(3))\n",
      "(np.int64(6), np.int64(2))\n",
      "(np.int64(6), np.int64(3))\n",
      "(np.int64(6), np.int64(3))\n",
      "(np.int64(6), np.int64(3))\n",
      "(np.int64(7), np.int64(3))\n",
      "(np.int64(6), np.int64(3))\n",
      "(np.int64(6), np.int64(3))\n",
      "(np.int64(6), np.int64(3))\n",
      "(np.int64(6), np.int64(2))\n",
      "(np.int64(6), np.int64(2))\n",
      "(np.int64(6), np.int64(2))\n",
      "(np.int64(5), np.int64(2))\n",
      "(np.int64(5), np.int64(2))\n",
      "(np.int64(4), np.int64(2))\n",
      "(np.int64(4), np.int64(1))\n",
      "(np.int64(3), np.int64(1))\n",
      "(np.int64(3), np.int64(1))\n",
      "(np.int64(0), np.int64(-1))\n",
      "(np.int64(1), np.int64(0))\n",
      "(np.int64(1), np.int64(0))\n",
      "(np.int64(2), np.int64(0))\n",
      "(np.int64(3), np.int64(1))\n",
      "(np.int64(3), np.int64(1))\n",
      "(np.int64(4), np.int64(2))\n",
      "(np.int64(5), np.int64(2))\n",
      "(np.int64(6), np.int64(2))\n",
      "(np.int64(6), np.int64(2))\n",
      "(np.int64(6), np.int64(2))\n",
      "(np.int64(6), np.int64(2))\n",
      "(np.int64(6), np.int64(2))\n",
      "(np.int64(7), np.int64(3))\n",
      "(np.int64(7), np.int64(3))\n",
      "(np.int64(7), np.int64(3))\n",
      "(np.int64(7), np.int64(3))\n",
      "(np.int64(7), np.int64(3))\n",
      "(np.int64(6), np.int64(3))\n",
      "(np.int64(6), np.int64(3))\n",
      "(np.int64(6), np.int64(3))\n",
      "(np.int64(6), np.int64(3))\n",
      "(np.int64(6), np.int64(2))\n",
      "(np.int64(6), np.int64(2))\n",
      "(np.int64(6), np.int64(2))\n",
      "(np.int64(5), np.int64(2))\n",
      "(np.int64(5), np.int64(2))\n",
      "(np.int64(5), np.int64(1))\n",
      "(np.int64(4), np.int64(1))\n",
      "(np.int64(4), np.int64(1))\n",
      "(np.int64(1), np.int64(-1))\n",
      "(np.int64(2), np.int64(-1))\n",
      "(np.int64(3), np.int64(0))\n",
      "(np.int64(3), np.int64(0))\n",
      "(np.int64(5), np.int64(1))\n",
      "(np.int64(5), np.int64(1))\n",
      "(np.int64(6), np.int64(1))\n",
      "(np.int64(7), np.int64(1))\n",
      "(np.int64(7), np.int64(1))\n",
      "(np.int64(8), np.int64(2))\n",
      "(np.int64(8), np.int64(2))\n",
      "(np.int64(8), np.int64(2))\n",
      "(np.int64(8), np.int64(2))\n",
      "(np.int64(8), np.int64(2))\n",
      "(np.int64(7), np.int64(2))\n",
      "(np.int64(8), np.int64(2))\n",
      "(np.int64(8), np.int64(2))\n",
      "(np.int64(8), np.int64(2))\n",
      "(np.int64(8), np.int64(2))\n",
      "(np.int64(8), np.int64(2))\n",
      "(np.int64(8), np.int64(2))\n",
      "(np.int64(7), np.int64(2))\n",
      "(np.int64(6), np.int64(2))\n",
      "(np.int64(6), np.int64(2))\n",
      "(np.int64(6), np.int64(1))\n",
      "(np.int64(6), np.int64(1))\n",
      "(np.int64(6), np.int64(1))\n",
      "(np.int64(5), np.int64(1))\n",
      "(np.int64(4), np.int64(1))\n",
      "(np.int64(4), np.int64(0))\n",
      "(np.int64(0), np.int64(-1))\n",
      "(np.int64(1), np.int64(-1))\n",
      "(np.int64(2), np.int64(0))\n",
      "(np.int64(3), np.int64(0))\n",
      "(np.int64(3), np.int64(1))\n",
      "(np.int64(4), np.int64(1))\n",
      "(np.int64(4), np.int64(1))\n",
      "(np.int64(5), np.int64(1))\n",
      "(np.int64(5), np.int64(2))\n",
      "(np.int64(5), np.int64(2))\n",
      "(np.int64(6), np.int64(2))\n",
      "(np.int64(6), np.int64(2))\n",
      "(np.int64(6), np.int64(2))\n",
      "(np.int64(6), np.int64(2))\n",
      "(np.int64(6), np.int64(3))\n",
      "(np.int64(6), np.int64(3))\n",
      "(np.int64(6), np.int64(2))\n",
      "(np.int64(6), np.int64(2))\n",
      "(np.int64(6), np.int64(2))\n",
      "(np.int64(6), np.int64(3))\n",
      "(np.int64(6), np.int64(3))\n",
      "(np.int64(5), np.int64(2))\n",
      "(np.int64(5), np.int64(2))\n",
      "(np.int64(5), np.int64(2))\n",
      "(np.int64(5), np.int64(2))\n",
      "(np.int64(5), np.int64(2))\n",
      "(np.int64(5), np.int64(1))\n",
      "(np.int64(4), np.int64(1))\n",
      "(np.int64(4), np.int64(1))\n",
      "(np.int64(3), np.int64(1))\n"
     ]
    }
   ],
   "execution_count": 2
  },
  {
   "metadata": {
    "ExecuteTime": {
     "end_time": "2025-03-26T20:44:24.035331Z",
     "start_time": "2025-03-26T12:31:08.087211Z"
    }
   },
   "cell_type": "code",
   "source": [
    "from napari_tardis_em.viewers.utils import frames_phase_correlation\n",
    "\n",
    "frames_cor = frames_phase_correlation(frames)"
   ],
   "id": "db3699ffc1dd60a5",
   "outputs": [],
   "execution_count": 3
  },
  {
   "metadata": {
    "ExecuteTime": {
     "end_time": "2025-03-26T20:44:24.035979Z",
     "start_time": "2025-03-26T13:54:35.343178Z"
    }
   },
   "cell_type": "code",
   "source": [
    "import tifffile.tifffile as tif\n",
    "import numpy as np\n",
    "# tif.imwrite('../../../test_tirf/movie/frames.tif', frames)\n",
    "tif.imwrite('../../../test_tirf/movie/frames_cor.tif', img)"
   ],
   "id": "1ae618aedfd6c6e4",
   "outputs": [],
   "execution_count": 4
  },
  {
   "metadata": {
    "ExecuteTime": {
     "end_time": "2025-03-26T12:31:21.585542Z",
     "start_time": "2025-03-26T12:31:21.043510Z"
    }
   },
   "cell_type": "code",
   "source": [
    "import matplotlib.pyplot as plt\n",
    "\n",
    "plt.hist(frames.flatten())"
   ],
   "id": "c099685e9ad1de24",
   "outputs": [
    {
     "data": {
      "text/plain": [
       "(array([4.2092303e+07, 6.7799100e+05, 3.2327500e+05, 4.2301000e+04,\n",
       "        1.3230000e+03, 3.3300000e+02, 1.5000000e+02, 1.0700000e+02,\n",
       "        4.3000000e+01, 3.8000000e+01]),\n",
       " array([   89.,  1210.,  2331.,  3452.,  4573.,  5694.,  6815.,  7936.,\n",
       "         9057., 10178., 11299.]),\n",
       " <BarContainer object of 10 artists>)"
      ]
     },
     "execution_count": 5,
     "metadata": {},
     "output_type": "execute_result"
    },
    {
     "data": {
      "text/plain": [
       "<Figure size 640x480 with 1 Axes>"
      ],
      "image/png": "[encoded data removed]"
     },
     "metadata": {},
     "output_type": "display_data"
    }
   ],
   "execution_count": 5
  },
  {
   "metadata": {
    "ExecuteTime": {
     "end_time": "2025-03-26T12:31:32.318667Z",
     "start_time": "2025-03-26T12:31:31.749782Z"
    }
   },
   "cell_type": "code",
   "source": "plt.hist(frames_cor.flatten())",
   "id": "878586a46436b498",
   "outputs": [
    {
     "data": {
      "text/plain": [
       "(array([4.1898966e+07, 9.3737200e+05, 2.7600200e+05, 2.3259000e+04,\n",
       "        1.0450000e+03, 4.9400000e+02, 3.0100000e+02, 2.1700000e+02,\n",
       "        1.4300000e+02, 6.5000000e+01]),\n",
       " array([ -307.77474976,  1013.39904785,  2334.57299805,  3655.74682617,\n",
       "         4976.92041016,  6298.09423828,  7619.26806641,  8940.44238281,\n",
       "        10261.61621094, 11582.79003906, 12903.96386719]),\n",
       " <BarContainer object of 10 artists>)"
      ]
     },
     "execution_count": 6,
     "metadata": {},
     "output_type": "execute_result"
    },
    {
     "data": {
      "text/plain": [
       "<Figure size 640x480 with 1 Axes>"
      ],
      "image/png": "[encoded data removed]"
     },
     "metadata": {},
     "output_type": "display_data"
    }
   ],
   "execution_count": 6
  },
  {
   "metadata": {
    "ExecuteTime": {
     "end_time": "2025-03-26T13:59:56.237935Z",
     "start_time": "2025-03-26T13:59:56.235581Z"
    }
   },
   "cell_type": "code",
   "source": [
    "strings='0.5'\n",
    "strings = strings.replace(',', '.') if ',' in strings else strings\n",
    "float(strings)\n"
   ],
   "id": "22bb5220651be58d",
   "outputs": [
    {
     "data": {
      "text/plain": [
       "0.5"
      ]
     },
     "execution_count": 14,
     "metadata": {},
     "output_type": "execute_result"
    }
   ],
   "execution_count": 14
  },
  {
   "metadata": {
    "ExecuteTime": {
     "end_time": "2025-03-26T17:18:28.926625Z",
     "start_time": "2025-03-26T17:18:28.543968Z"
    }
   },
   "cell_type": "code",
   "source": [
    "from tardis_em.analysis.spatial_graph_utils import FilterSpatialGraph\n",
    "import numpy as np\n",
    "\n",
    "segments = np.genfromtxt('../../../test_tirf/movie/Predictions/2024-10-14_TTLL11_212-800_100nM_005_0_instances.csv', delimiter=',')[1:, ...]\n",
    "\n",
    "filter_splines = FilterSpatialGraph(\n",
    "                        connect_seg_if_closer_then=25,\n",
    "                        cylinder_radius=12,\n",
    "                        filter_short_segments=10,\n",
    "                    )\n",
    "segments_filter = filter_splines(segments=segments, px=None)\n"
   ],
   "id": "7866403277e6b07c",
   "outputs": [],
   "execution_count": 2
  },
  {
   "metadata": {
    "ExecuteTime": {
     "end_time": "2025-03-26T17:13:46.233269Z",
     "start_time": "2025-03-26T17:13:45.863133Z"
    }
   },
   "cell_type": "code",
   "source": [
    "from tardis_em.utils.visualize_pc import VisualizePointCloud\n",
    "VisualizePointCloud(segments_filter, True)"
   ],
   "id": "a09b7510d5359432",
   "outputs": [
    {
     "ename": "NameError",
     "evalue": "name 'o3d' is not defined",
     "output_type": "error",
     "traceback": [
      "\u001B[31m---------------------------------------------------------------------------\u001B[39m",
      "\u001B[31mNameError\u001B[39m                                 Traceback (most recent call last)",
      "\u001B[36mCell\u001B[39m\u001B[36m \u001B[39m\u001B[32mIn[6]\u001B[39m\u001B[32m, line 2\u001B[39m\n\u001B[32m      1\u001B[39m \u001B[38;5;28;01mfrom\u001B[39;00m\u001B[38;5;250m \u001B[39m\u001B[34;01mtardis_em\u001B[39;00m\u001B[34;01m.\u001B[39;00m\u001B[34;01mutils\u001B[39;00m\u001B[34;01m.\u001B[39;00m\u001B[34;01mvisualize_pc\u001B[39;00m\u001B[38;5;250m \u001B[39m\u001B[38;5;28;01mimport\u001B[39;00m VisualizePointCloud\n\u001B[32m----> \u001B[39m\u001B[32m2\u001B[39m \u001B[43mVisualizePointCloud\u001B[49m\u001B[43m(\u001B[49m\u001B[43msegments_filter\u001B[49m\u001B[43m,\u001B[49m\u001B[43m \u001B[49m\u001B[38;5;28;43;01mTrue\u001B[39;49;00m\u001B[43m)\u001B[49m\n",
      "\u001B[36mFile \u001B[39m\u001B[32m~/Desktop/GitHub/TARDIS_dev/tardis_em/utils/visualize_pc.py:453\u001B[39m, in \u001B[36mVisualizePointCloud\u001B[39m\u001B[34m(coord, segmented, rgb, animate, return_b)\u001B[39m\n\u001B[32m    450\u001B[39m coord, check = _dataset_format(coord=coord, segmented=segmented)\n\u001B[32m    452\u001B[39m \u001B[38;5;28;01mif\u001B[39;00m check:\n\u001B[32m--> \u001B[39m\u001B[32m453\u001B[39m     pcd = \u001B[43mo3d\u001B[49m.geometry.PointCloud()\n\u001B[32m    455\u001B[39m     \u001B[38;5;28;01mif\u001B[39;00m segmented:\n\u001B[32m    456\u001B[39m         pcd.points = o3d.utility.Vector3dVector(coord[:, \u001B[32m1\u001B[39m:])\n",
      "\u001B[31mNameError\u001B[39m: name 'o3d' is not defined"
     ]
    }
   ],
   "execution_count": 6
  }
 ],
 "metadata": {
  "kernelspec": {
   "display_name": "Python 3",
   "language": "python",
   "name": "python3"
  },
  "language_info": {
   "codemirror_mode": {
    "name": "ipython",
    "version": 2
   },
   "file_extension": ".py",
   "mimetype": "text/x-python",
   "name": "python",
   "nbconvert_exporter": "python",
   "pygments_lexer": "ipython2",
   "version": "2.7.6"
  }
 },
 "nbformat": 4,
 "nbformat_minor": 5
}
