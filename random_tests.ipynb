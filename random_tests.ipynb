{
 "cells": [
  {
   "cell_type": "code",
   "id": "initial_id",
   "metadata": {
    "collapsed": true,
    "ExecuteTime": {
     "end_time": "2024-07-13T08:50:11.228121Z",
     "start_time": "2024-07-13T08:50:07.804043Z"
    }
   },
   "source": [
    "import matplotlib.pyplot as plt\n",
    "import torch\n",
    "\n",
    "\n",
    "def get_available_devices():\n",
    "    devices = [\"cpu\"]\n",
    "\n",
    "    # Check if CUDA (NVIDIA GPU) is available and list all available CUDA devices\n",
    "    if torch.cuda.is_available():\n",
    "        for i in range(torch.cuda.device_count()):\n",
    "            devices.append(f\"cuda:{i}\")\n",
    "\n",
    "    # Check for MPS (Apple's Metal Performance Shaders) availability\n",
    "    if torch.backends.mps.is_available():\n",
    "        devices.append(\"mps\")\n",
    "\n",
    "    return devices"
   ],
   "outputs": [],
   "execution_count": 1
  },
  {
   "metadata": {
    "ExecuteTime": {
     "end_time": "2024-07-13T08:50:24.038029Z",
     "start_time": "2024-07-13T08:50:24.008156Z"
    }
   },
   "cell_type": "code",
   "source": "get_available_devices()",
   "id": "7a84a850798f427c",
   "outputs": [
    {
     "data": {
      "text/plain": [
       "['cpu', 'mps']"
      ]
     },
     "execution_count": 3,
     "metadata": {},
     "output_type": "execute_result"
    }
   ],
   "execution_count": 3
  },
  {
   "metadata": {
    "ExecuteTime": {
     "end_time": "2024-07-19T16:22:55.492371Z",
     "start_time": "2024-07-19T16:22:51.771602Z"
    }
   },
   "cell_type": "code",
   "source": [
    "from tardis_em.utils.load_data import load_image\n",
    "\n",
    "img, px = load_image(\n",
    "    \"../test_data/Predictions/T0649_Monopole_Grid08B_cell06_sec04.rec_flattrim.rec-2_semantic.mrc\"\n",
    ")"
   ],
   "id": "e9d829b22b8305d6",
   "outputs": [],
   "execution_count": 1
  },
  {
   "metadata": {
    "ExecuteTime": {
     "end_time": "2024-07-19T16:22:55.713751Z",
     "start_time": "2024-07-19T16:22:55.493448Z"
    }
   },
   "cell_type": "code",
   "source": [
    "from tardis_em.dist_pytorch.utils.utils import VoxelDownSampling\n",
    "from tardis_em.dist_pytorch.utils.build_point_cloud import BuildPointCloud\n",
    "import numpy as np\n",
    "\n",
    "coordinates_HD = np.random.random((10000, 3))\n",
    "post_processes = VoxelDownSampling(voxel=5, labels=False, KNN=True)\n",
    "ld = post_processes(coordinates_HD)"
   ],
   "id": "230425ea3c0518e",
   "outputs": [
    {
     "ename": "ValueError",
     "evalue": "array is not broadcastable to correct shape",
     "output_type": "error",
     "traceback": [
      "\u001b[0;31m---------------------------------------------------------------------------\u001b[0m",
      "\u001b[0;31mValueError\u001b[0m                                Traceback (most recent call last)",
      "Cell \u001b[0;32mIn[2], line 6\u001b[0m\n\u001b[1;32m      4\u001b[0m coordinates_HD \u001b[38;5;241m=\u001b[39m np\u001b[38;5;241m.\u001b[39mrandom\u001b[38;5;241m.\u001b[39mrandom((\u001b[38;5;241m10000\u001b[39m, \u001b[38;5;241m3\u001b[39m))\n\u001b[1;32m      5\u001b[0m post_processes \u001b[38;5;241m=\u001b[39m VoxelDownSampling(voxel\u001b[38;5;241m=\u001b[39m\u001b[38;5;241m5\u001b[39m, labels\u001b[38;5;241m=\u001b[39m\u001b[38;5;28;01mFalse\u001b[39;00m, KNN\u001b[38;5;241m=\u001b[39m\u001b[38;5;28;01mTrue\u001b[39;00m)\n\u001b[0;32m----> 6\u001b[0m ld \u001b[38;5;241m=\u001b[39m \u001b[43mpost_processes\u001b[49m\u001b[43m(\u001b[49m\u001b[43mcoordinates_HD\u001b[49m\u001b[43m)\u001b[49m\n",
      "File \u001b[0;32m~/Desktop/GitHub/TARDIS_dev/tardis_em/dist_pytorch/utils/utils.py:219\u001b[0m, in \u001b[0;36mDownSampling.__call__\u001b[0;34m(self, coord, rgb)\u001b[0m\n\u001b[1;32m    217\u001b[0m     \u001b[38;5;28;01mreturn\u001b[39;00m \u001b[38;5;28mself\u001b[39m\u001b[38;5;241m.\u001b[39mpc_down_sample(coord\u001b[38;5;241m=\u001b[39mcoord, rgb\u001b[38;5;241m=\u001b[39mrgb, sampling\u001b[38;5;241m=\u001b[39m\u001b[38;5;28mself\u001b[39m\u001b[38;5;241m.\u001b[39msample)\n\u001b[1;32m    218\u001b[0m \u001b[38;5;28;01melse\u001b[39;00m:\n\u001b[0;32m--> 219\u001b[0m     \u001b[38;5;28;01mreturn\u001b[39;00m \u001b[38;5;28;43mself\u001b[39;49m\u001b[38;5;241;43m.\u001b[39;49m\u001b[43mpc_down_sample\u001b[49m\u001b[43m(\u001b[49m\u001b[43mcoord\u001b[49m\u001b[38;5;241;43m=\u001b[39;49m\u001b[43mcoord\u001b[49m\u001b[43m,\u001b[49m\u001b[43m \u001b[49m\u001b[43msampling\u001b[49m\u001b[38;5;241;43m=\u001b[39;49m\u001b[38;5;28;43mself\u001b[39;49m\u001b[38;5;241;43m.\u001b[39;49m\u001b[43msample\u001b[49m\u001b[43m)\u001b[49m\n",
      "File \u001b[0;32m~/Desktop/GitHub/TARDIS_dev/tardis_em/dist_pytorch/utils/utils.py:262\u001b[0m, in \u001b[0;36mVoxelDownSampling.pc_down_sample\u001b[0;34m(self, coord, sampling, rgb)\u001b[0m\n\u001b[1;32m    260\u001b[0m \u001b[38;5;66;03m# Compute the centroids of each voxel\u001b[39;00m\n\u001b[1;32m    261\u001b[0m voxel_centers \u001b[38;5;241m=\u001b[39m np\u001b[38;5;241m.\u001b[39mzeros((\u001b[38;5;28mlen\u001b[39m(unique_voxel_index), \u001b[38;5;241m3\u001b[39m))\n\u001b[0;32m--> 262\u001b[0m \u001b[43mnp\u001b[49m\u001b[38;5;241;43m.\u001b[39;49m\u001b[43madd\u001b[49m\u001b[38;5;241;43m.\u001b[39;49m\u001b[43mat\u001b[49m\u001b[43m(\u001b[49m\u001b[43mvoxel_centers\u001b[49m\u001b[43m,\u001b[49m\u001b[43m \u001b[49m\u001b[43minverse_index\u001b[49m\u001b[43m,\u001b[49m\u001b[43m \u001b[49m\u001b[43mcoord\u001b[49m\u001b[43m)\u001b[49m\n\u001b[1;32m    263\u001b[0m voxel_centers \u001b[38;5;241m/\u001b[39m\u001b[38;5;241m=\u001b[39m voxel_counts[:, np\u001b[38;5;241m.\u001b[39mnewaxis]\n\u001b[1;32m    265\u001b[0m \u001b[38;5;66;03m# Retrieve ID value for down sampled point cloud\u001b[39;00m\n",
      "\u001b[0;31mValueError\u001b[0m: array is not broadcastable to correct shape"
     ]
    }
   ],
   "execution_count": 2
  },
  {
   "metadata": {
    "ExecuteTime": {
     "end_time": "2024-07-19T16:23:13.581386Z",
     "start_time": "2024-07-19T16:23:13.578895Z"
    }
   },
   "cell_type": "code",
   "source": [
    "coord = coordinates_HD\n",
    "sampling = 5\n",
    "voxel_index = np.floor(coord / sampling).astype(np.int32)"
   ],
   "id": "b1cd82c66ab189d8",
   "outputs": [],
   "execution_count": 4
  },
  {
   "metadata": {
    "ExecuteTime": {
     "end_time": "2024-07-19T16:23:50.692695Z",
     "start_time": "2024-07-19T16:23:50.683712Z"
    }
   },
   "cell_type": "code",
   "source": [
    "unique_voxel_index, inverse_index, voxel_counts = np.unique(\n",
    "    voxel_index, axis=0, return_inverse=True, return_counts=True\n",
    ")\n",
    "if inverse_index.ndim == 2:\n",
    "    inverse_index = inverse_index[:, 0]\n",
    "voxel_centers = np.zeros((len(unique_voxel_index), 3))\n",
    "np.add.at(voxel_centers, inverse_index, coord)"
   ],
   "id": "7961d859be915bf6",
   "outputs": [],
   "execution_count": 10
  },
  {
   "metadata": {
    "ExecuteTime": {
     "end_time": "2024-07-19T15:51:07.629785Z",
     "start_time": "2024-07-19T15:51:07.627287Z"
    }
   },
   "cell_type": "code",
   "source": [
    "print(voxel_centers.shape, inverse_index.shape, coord.shape)"
   ],
   "id": "9a124e3b85fef074",
   "outputs": [
    {
     "name": "stdout",
     "output_type": "stream",
     "text": [
      "(201, 3) (571, 1) (571, 3)\n"
     ]
    }
   ],
   "execution_count": 24
  },
  {
   "metadata": {
    "ExecuteTime": {
     "end_time": "2024-07-19T16:10:36.156541Z",
     "start_time": "2024-07-19T16:10:36.149381Z"
    }
   },
   "cell_type": "code",
   "source": [
    "sampling = 5\n",
    "# Find the grid cell index for each point\n",
    "voxel_index = np.floor(coord / sampling).astype(np.int32)\n",
    "\n",
    "# Compute the unique set of voxel indices\n",
    "unique_voxel_index, inverse_index, voxel_counts = np.unique(\n",
    "    voxel_index, axis=0, return_inverse=True, return_counts=True\n",
    ")\n",
    "\n",
    "# Compute the centroids of each voxel\n",
    "voxel_centers = np.zeros((len(unique_voxel_index), 3))\n",
    "for i in range(len(coord)):\n",
    "    voxel_centers[inverse_index[i]] += coord[i]\n",
    "voxel_centers /= voxel_counts[:, np.newaxis]"
   ],
   "id": "50e066c44286dea4",
   "outputs": [],
   "execution_count": 40
  },
  {
   "metadata": {
    "ExecuteTime": {
     "end_time": "2024-07-19T16:11:00.578580Z",
     "start_time": "2024-07-19T16:11:00.518304Z"
    }
   },
   "cell_type": "code",
   "source": "plt.scatter(voxel_centers[:, 0], voxel_centers[:, 1])",
   "id": "abf1bc6d876be586",
   "outputs": [
    {
     "data": {
      "text/plain": [
       "<matplotlib.collections.PathCollection at 0x12e9b6c90>"
      ]
     },
     "execution_count": 41,
     "metadata": {},
     "output_type": "execute_result"
    },
    {
     "data": {
      "text/plain": [
       "<Figure size 640x480 with 1 Axes>"
      ],
      "image/png": "[encoded data removed]"
     },
     "metadata": {},
     "output_type": "display_data"
    }
   ],
   "execution_count": 41
  },
  {
   "metadata": {
    "ExecuteTime": {
     "end_time": "2024-07-19T17:09:40.253842Z",
     "start_time": "2024-07-19T17:09:40.250905Z"
    }
   },
   "cell_type": "code",
   "source": "np.random.random((65, 4)).dtype",
   "id": "2d32f5bd04aeeda8",
   "outputs": [
    {
     "data": {
      "text/plain": [
       "dtype('float64')"
      ]
     },
     "execution_count": 14,
     "metadata": {},
     "output_type": "execute_result"
    }
   ],
   "execution_count": 14
  },
  {
   "metadata": {},
   "cell_type": "code",
   "outputs": [],
   "execution_count": null,
   "source": [
    "from tardis_em.utils.load_data import load_image\n",
    "\n",
    "img, px = load_image(\"../test_data/20240321_b2g1_ts34.mrc\")"
   ],
   "id": "44ce4c5a9f09cd53"
  },
  {
   "metadata": {},
   "cell_type": "code",
   "outputs": [],
   "execution_count": null,
   "source": "",
   "id": "baa508263aec7bf6"
  }
 ],
 "metadata": {
  "kernelspec": {
   "display_name": "Python 3",
   "language": "python",
   "name": "python3"
  },
  "language_info": {
   "codemirror_mode": {
    "name": "ipython",
    "version": 2
   },
   "file_extension": ".py",
   "mimetype": "text/x-python",
   "name": "python",
   "nbconvert_exporter": "python",
   "pygments_lexer": "ipython2",
   "version": "2.7.6"
  }
 },
 "nbformat": 4,
 "nbformat_minor": 5
}
